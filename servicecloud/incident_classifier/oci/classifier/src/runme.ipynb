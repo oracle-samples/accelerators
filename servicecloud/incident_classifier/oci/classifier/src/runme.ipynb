{
 "cells": [
  {
   "cell_type": "markdown",
   "id": "46ead396",
   "metadata": {},
   "source": [
    "### OCI Data Science - Useful Tips\n",
    "<details>\n",
    "<summary><font size=\"2\">Check for Public Internet Access</font></summary>\n",
    "\n",
    "```python\n",
    "import requests\n",
    "response = requests.get(\"https://oracle.com\")\n",
    "assert response.status_code==200, \"Internet connection failed\"\n",
    "```\n",
    "</details>\n",
    "<details>\n",
    "<summary><font size=\"2\">Helpful Documentation </font></summary>\n",
    "<ul><li><a href=\"https://docs.cloud.oracle.com/en-us/iaas/data-science/using/data-science.htm\">Data Science Service Documentation</a></li>\n",
    "<li><a href=\"https://docs.cloud.oracle.com/iaas/tools/ads-sdk/latest/index.html\">ADS documentation</a></li>\n",
    "</ul>\n",
    "</details>\n",
    "<details>\n",
    "<summary><font size=\"2\">Typical Cell Imports and Settings for ADS</font></summary>\n",
    "\n",
    "```python\n",
    "%load_ext autoreload\n",
    "%autoreload 2\n",
    "%matplotlib inline\n",
    "\n",
    "import warnings\n",
    "warnings.filterwarnings('ignore')\n",
    "\n",
    "import logging\n",
    "logging.basicConfig(format='%(levelname)s:%(message)s', level=logging.ERROR)\n",
    "\n",
    "import ads\n",
    "from ads.dataset.factory import DatasetFactory\n",
    "from ads.automl.provider import OracleAutoMLProvider\n",
    "from ads.automl.driver import AutoML\n",
    "from ads.evaluations.evaluator import ADSEvaluator\n",
    "from ads.common.data import ADSData\n",
    "from ads.explanations.explainer import ADSExplainer\n",
    "from ads.explanations.mlx_global_explainer import MLXGlobalExplainer\n",
    "from ads.explanations.mlx_local_explainer import MLXLocalExplainer\n",
    "from ads.catalog.model import ModelCatalog\n",
    "from ads.common.model_artifact import ModelArtifact\n",
    "```\n",
    "</details>\n",
    "<details>\n",
    "<summary><font size=\"2\">Useful Environment Variables</font></summary>\n",
    "\n",
    "```python\n",
    "import os\n",
    "print(os.environ[\"NB_SESSION_COMPARTMENT_OCID\"])\n",
    "print(os.environ[\"PROJECT_OCID\"])\n",
    "print(os.environ[\"USER_OCID\"])\n",
    "print(os.environ[\"TENANCY_OCID\"])\n",
    "print(os.environ[\"NB_REGION\"])\n",
    "```\n",
    "</details>"
   ]
  },
  {
   "cell_type": "markdown",
   "id": "74e51170",
   "metadata": {},
   "source": [
    "# B2C Automated Classification Accelerator "
   ]
  },
  {
   "cell_type": "markdown",
   "id": "52eb6de8",
   "metadata": {},
   "source": [
    "## Step 1: Create Conda Enviorment \n",
    "It is needed to create an enviorment where all the required python dependencies are available.\n",
    "\n",
    "<i>If conda enviorment already created then assign that path in</i> **CONDA_ENV_PATH** <i>env variable</i>"
   ]
  },
  {
   "cell_type": "code",
   "execution_count": null,
   "id": "2e66bace",
   "metadata": {},
   "outputs": [],
   "source": [
    "!pip install -r ./../requirements.txt"
   ]
  },
  {
   "cell_type": "markdown",
   "id": "a85c18bc",
   "metadata": {},
   "source": [
    "#### 1. Setup conda enviornment"
   ]
  },
  {
   "cell_type": "code",
   "execution_count": null,
   "id": "4cc3206a",
   "metadata": {},
   "outputs": [],
   "source": [
    "import shutil\n",
    "CONDA_ENV_NAME = \"b2c_env\""
   ]
  },
  {
   "cell_type": "code",
   "execution_count": null,
   "id": "ccbb2025",
   "metadata": {},
   "outputs": [],
   "source": [
    "!rm -rf ./conda"
   ]
  },
  {
   "cell_type": "code",
   "execution_count": null,
   "id": "da4d7401",
   "metadata": {},
   "outputs": [],
   "source": [
    "!odsc conda create --file ./environment.yml --name {CONDA_ENV_NAME} --slug {CONDA_ENV_NAME}_slug"
   ]
  },
  {
   "cell_type": "code",
   "execution_count": null,
   "id": "1479f895",
   "metadata": {},
   "outputs": [],
   "source": [
    "env CONDA_PREFIX=/home/datascience/conda/b2c_env_slug"
   ]
  },
  {
   "cell_type": "code",
   "execution_count": null,
   "id": "52896fc3",
   "metadata": {},
   "outputs": [],
   "source": [
    "\"\"\"\n",
    "This is need because moder_artifact.build tries to get manifest file from conda directory default: /opt/conda.\n",
    "\n",
    "But it does not have mainifest file. Hence, it throws following error while building the model artifact.\n",
    "\n",
    "Exception: Could not locate manifest file in the provided conda environment: /opt/conda. Dir Listing - ['ssl', 'lib', 'envs', 'conda-meta', 'x86_64-conda_cos6-linux-gnu', 'include', 'condabin', 'LICENSE.txt', 'share', 'bin', 'etc', 'x86_64-conda-linux-gnu', 'shell', 'compiler_compat', 'pkgs', 'cx_Oracle-doc']\n",
    "\n",
    "\"\"\"\n",
    "\n",
    "import os\n",
    "os.environ.get(\"CONDA_PREFIX\", None)"
   ]
  },
  {
   "cell_type": "markdown",
   "id": "7c37f79b",
   "metadata": {},
   "source": [
    "#### 2. Set required enviornment variables"
   ]
  },
  {
   "cell_type": "code",
   "execution_count": null,
   "id": "ad117278",
   "metadata": {},
   "outputs": [],
   "source": [
    "from training_scripts.utils import set_config\n",
    "set_config()"
   ]
  },
  {
   "cell_type": "code",
   "execution_count": null,
   "id": "b55e61a1",
   "metadata": {},
   "outputs": [],
   "source": [
    "import ads\n",
    "import logging\n",
    "import os\n",
    "import datetime\n",
    "\n",
    "from dateutil.tz import tzutc\n",
    "\n",
    "from training_scripts.constants import COMPARTMENT_ID, BUCKET_URL, PROJECT_ID, SUBNET_ID, LOG_GROUP_ID, \\\n",
    "    CONDA_ENV_PATH, LOGGING_FORMAT, VERSION\n",
    "from training_scripts.jobs import model_artifact\n",
    "from training_scripts.utils.job_utility import get_infrastructure, create_job, execute_job\n",
    "\n",
    "import oci\n",
    "signer = oci.auth.signers.get_resource_principals_signer()"
   ]
  },
  {
   "cell_type": "code",
   "execution_count": null,
   "id": "6e86e3c0",
   "metadata": {},
   "outputs": [],
   "source": [
    "os.getenv(BUCKET_URL)"
   ]
  },
  {
   "cell_type": "code",
   "execution_count": null,
   "id": "1b1740a4",
   "metadata": {},
   "outputs": [],
   "source": [
    "object_storage = oci.object_storage.ObjectStorageClient(config={},\n",
    "                                                                         signer=signer)\n",
    "namespace = object_storage.get_namespace().data\n",
    "namespace"
   ]
  },
  {
   "cell_type": "code",
   "execution_count": null,
   "id": "2112f961",
   "metadata": {},
   "outputs": [],
   "source": [
    "from training_scripts.jobs.conda_environment import get_conda_env"
   ]
  },
  {
   "cell_type": "code",
   "execution_count": null,
   "id": "04ca192d",
   "metadata": {},
   "outputs": [],
   "source": [
    "conda_env = get_conda_env()"
   ]
  },
  {
   "cell_type": "code",
   "execution_count": null,
   "id": "9ad66d44",
   "metadata": {},
   "outputs": [],
   "source": [
    "PYTHON_ENV, PYTHON_BUCKET = conda_env"
   ]
  },
  {
   "cell_type": "code",
   "execution_count": null,
   "id": "68fd8015",
   "metadata": {},
   "outputs": [],
   "source": [
    "PYTHON_BUCKET"
   ]
  },
  {
   "cell_type": "code",
   "execution_count": null,
   "id": "3cadb7e5",
   "metadata": {},
   "outputs": [],
   "source": [
    "os.environ.setdefault(CONDA_ENV_PATH,\n",
    "                          f\"oci://{PYTHON_BUCKET}\")\n",
    "os.environ.get(CONDA_ENV_PATH, None)"
   ]
  },
  {
   "cell_type": "code",
   "execution_count": null,
   "id": "0d3856a4",
   "metadata": {},
   "outputs": [],
   "source": [
    "import ads\n",
    "ads.set_auth(auth='resource_principal')"
   ]
  },
  {
   "cell_type": "markdown",
   "id": "774ef3d4",
   "metadata": {},
   "source": [
    "### Create Log Group"
   ]
  },
  {
   "cell_type": "code",
   "execution_count": null,
   "id": "03631449",
   "metadata": {},
   "outputs": [],
   "source": [
    "from training_scripts.utils.job_utility import create_log, get_log_group_ocid\n",
    "import uuid"
   ]
  },
  {
   "cell_type": "code",
   "execution_count": null,
   "id": "28e45b7f",
   "metadata": {},
   "outputs": [],
   "source": [
    "group_log_name = f\"ai4service-group-log-{str(uuid.uuid4())}\"\n",
    "group_log_name"
   ]
  },
  {
   "cell_type": "code",
   "execution_count": null,
   "id": "20628fd5",
   "metadata": {},
   "outputs": [],
   "source": [
    "response = create_log(name=group_log_name, group_log_id=None)\n",
    "response.status"
   ]
  },
  {
   "cell_type": "code",
   "execution_count": null,
   "id": "8bbe8a6c",
   "metadata": {},
   "outputs": [],
   "source": [
    "log_group_ocid = get_log_group_ocid(name=group_log_name)\n",
    "os.environ[LOG_GROUP_ID] = log_group_ocid\n",
    "os.getenv(LOG_GROUP_ID)"
   ]
  },
  {
   "cell_type": "markdown",
   "id": "dc0a5e27",
   "metadata": {},
   "source": [
    "#### 3. Run Ingestion Jobs"
   ]
  },
  {
   "cell_type": "code",
   "execution_count": null,
   "id": "06564734",
   "metadata": {},
   "outputs": [],
   "source": [
    "os.getcwd()"
   ]
  },
  {
   "cell_type": "code",
   "execution_count": null,
   "id": "1fb63a8f",
   "metadata": {},
   "outputs": [],
   "source": [
    "current_time = datetime.datetime.now(tz=tzutc())\n",
    "infrastructure = get_infrastructure()"
   ]
  },
  {
   "cell_type": "code",
   "execution_count": null,
   "id": "5baca197",
   "metadata": {},
   "outputs": [],
   "source": [
    "infrastructure"
   ]
  },
  {
   "cell_type": "code",
   "execution_count": null,
   "id": "7b963b6a",
   "metadata": {},
   "outputs": [],
   "source": [
    "ingestion_job = create_job(f\"ingest-data-{os.getenv(VERSION)}\",infrastructure, current_time)"
   ]
  },
  {
   "cell_type": "code",
   "execution_count": null,
   "id": "2d69f0d4",
   "metadata": {},
   "outputs": [],
   "source": [
    "ingestion_job"
   ]
  },
  {
   "cell_type": "code",
   "execution_count": null,
   "id": "573c17d5",
   "metadata": {},
   "outputs": [],
   "source": [
    "execute_job(ingestion_job, False)\n"
   ]
  },
  {
   "cell_type": "code",
   "execution_count": null,
   "id": "97b9f525",
   "metadata": {},
   "outputs": [],
   "source": [
    "build_model_job = create_job(f\"build-model-{os.getenv(VERSION)}\", infrastructure, current_time)"
   ]
  },
  {
   "cell_type": "code",
   "execution_count": null,
   "id": "b588fdc3",
   "metadata": {},
   "outputs": [],
   "source": [
    "build_model_job"
   ]
  },
  {
   "cell_type": "code",
   "execution_count": null,
   "id": "8348aafe",
   "metadata": {},
   "outputs": [],
   "source": [
    "execute_job(build_model_job, False)\n"
   ]
  },
  {
   "cell_type": "markdown",
   "id": "60a217b8",
   "metadata": {},
   "source": [
    "#### 4. Build B2C MultiTailClassifier Model Artifact"
   ]
  },
  {
   "cell_type": "code",
   "execution_count": null,
   "id": "54826d4a",
   "metadata": {},
   "outputs": [],
   "source": [
    "# Optional: TODO Have to figure out how to get latest model id from oci datascience api\n",
    "# model = model_artifact.build()"
   ]
  },
  {
   "cell_type": "code",
   "execution_count": null,
   "id": "9cff588d",
   "metadata": {},
   "outputs": [],
   "source": [
    "# model"
   ]
  },
  {
   "cell_type": "code",
   "execution_count": null,
   "id": "866509e2",
   "metadata": {},
   "outputs": [],
   "source": [
    "model_id = model.id # Provide latest model id here\n",
    "print(f\"Model OCID: {model_id}\")"
   ]
  },
  {
   "cell_type": "code",
   "execution_count": null,
   "id": "36879000",
   "metadata": {},
   "outputs": [],
   "source": [
    "from training_scripts.utils.job_utility import get_log_ocid\n"
   ]
  },
  {
   "cell_type": "code",
   "execution_count": null,
   "id": "18b8715a",
   "metadata": {},
   "outputs": [],
   "source": [
    "access_log_name = \"ai4service-access-log-\"+str(uuid.uuid4())\n",
    "response = create_log(access_log_name, group_log_id=log_group_ocid)\n",
    "print(response.status)\n",
    "access_log_id = get_log_ocid(name=access_log_name, group_log_id=log_group_ocid)\n",
    "access_log_id"
   ]
  },
  {
   "cell_type": "code",
   "execution_count": null,
   "id": "fcdcbc01",
   "metadata": {},
   "outputs": [],
   "source": [
    "predict_log_name = \"ai4service-predict-log-\"+str(uuid.uuid4())\n",
    "response = create_log(predict_log_name, group_log_id=log_group_ocid)\n",
    "print(response.status)\n",
    "predict_log_id = get_log_ocid(name=predict_log_name, group_log_id=log_group_ocid)\n",
    "predict_log_id"
   ]
  },
  {
   "cell_type": "markdown",
   "id": "addff337",
   "metadata": {},
   "source": [
    "### Initialize ModelDeploymentProperties\n",
    "\n",
    "##### Replace INSTANCE_SHAPE with one of the following shape name as per requirements\n",
    "\n",
    "|  | Shape name | Number of OCPUs | Memory (GB) | Details |\n",
    "|---|---|---|---|---|\n",
    "|  | VM.Standard2.1 | 1 | 15 | VM.Standard2.1 |\n",
    "|  | VM.Standard2.2 | 2 | 30 | VM.Standard2.2 |\n",
    "|  | VM.Standard2.4 | 4 | 60 | VM.Standard2.4 |\n",
    "|  | VM.Standard2.8 | 8 | 120 | VM.Standard2.8 |\n",
    "|  | VM.Standard2.16 | 16 | 240 | VM.Standard2.16 |\n",
    "|  | VM.Standard2.24 | 24 | 320 |  VM.Standard2.24 |"
   ]
  },
  {
   "cell_type": "code",
   "execution_count": null,
   "id": "7d79a6f5",
   "metadata": {},
   "outputs": [],
   "source": [
    "from ads.model.deployment import ModelDeploymentProperties\n",
    "\n",
    "model_deployment_properties = ModelDeploymentProperties(\n",
    "    model_id\n",
    ").with_prop(\n",
    "    'display_name', f\"Incident Classification Model Deployment {os.getenv(VERSION)}\"\n",
    ").with_prop(\n",
    "    \"project_id\", os.getenv(PROJECT_ID)\n",
    ").with_prop(\n",
    "    \"compartment_id\", os.getenv(COMPARTMENT_ID)\n",
    ").with_logging_configuration(\n",
    "    os.getenv(LOG_GROUP_ID), access_log_id, os.getenv(LOG_GROUP_ID), predict_log_id\n",
    ").with_instance_configuration(\n",
    "    config={\"INSTANCE_SHAPE\":\"VM.Standard2.4\", \"INSTANCE_COUNT\":\"1\",'bandwidth_mbps':10}\n",
    ")\n"
   ]
  },
  {
   "cell_type": "code",
   "execution_count": null,
   "id": "819a1f4c",
   "metadata": {},
   "outputs": [],
   "source": [
    "from ads.model.deployment import ModelDeployer\n",
    "deployer = ModelDeployer()\n",
    "deployment = deployer.deploy(model_deployment_properties)"
   ]
  },
  {
   "cell_type": "code",
   "execution_count": null,
   "id": "f19fcbb8",
   "metadata": {},
   "outputs": [],
   "source": [
    "f\"Deployment {deployment.model_deployment_id} is {deployment.state.name}\""
   ]
  },
  {
   "cell_type": "code",
   "execution_count": null,
   "id": "6d1f2815",
   "metadata": {},
   "outputs": [],
   "source": []
  }
 ],
 "metadata": {
  "kernelspec": {
   "display_name": "Python [conda env:b2c_env_slug]",
   "language": "python",
   "name": "conda-env-b2c_env_slug-py"
  },
  "language_info": {
   "codemirror_mode": {
    "name": "ipython",
    "version": 3
   },
   "file_extension": ".py",
   "mimetype": "text/x-python",
   "name": "python",
   "nbconvert_exporter": "python",
   "pygments_lexer": "ipython3",
   "version": "3.8.12"
  }
 },
 "nbformat": 4,
 "nbformat_minor": 5
}